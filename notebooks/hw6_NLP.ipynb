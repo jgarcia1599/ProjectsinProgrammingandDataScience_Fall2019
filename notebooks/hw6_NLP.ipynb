{
  "nbformat": 4,
  "nbformat_minor": 0,
  "metadata": {
    "kernelspec": {
      "display_name": "Python 3",
      "language": "python",
      "name": "python3"
    },
    "language_info": {
      "codemirror_mode": {
        "name": "ipython",
        "version": 3
      },
      "file_extension": ".py",
      "mimetype": "text/x-python",
      "name": "python",
      "nbconvert_exporter": "python",
      "pygments_lexer": "ipython3",
      "version": "3.7.3"
    },
    "colab": {
      "name": "jfg388_NLP_Homework.ipynb",
      "provenance": [],
      "collapsed_sections": []
    }
  },
  "cells": [
    {
      "cell_type": "markdown",
      "metadata": {
        "id": "NgegBnk6Z_b8",
        "colab_type": "text"
      },
      "source": [
        "## To submit this assignment, please solve the following problem. Then, save your notebook with the format [YOUR_NAME_HERE]\\_NLP_Homework and submit via NYU Classes. "
      ]
    },
    {
      "cell_type": "markdown",
      "metadata": {
        "id": "v3t6fRoJZ_b-",
        "colab_type": "text"
      },
      "source": [
        "---"
      ]
    },
    {
      "cell_type": "markdown",
      "metadata": {
        "id": "4iW17ksJZ_b_",
        "colab_type": "text"
      },
      "source": [
        "### For this assignment you must, using the text provided: \n",
        "\n",
        "1. Create a Spacy doc from the text,\n",
        "2. Print the toekn text, part of speech for each token in the doc \n",
        "3. Find and print any geographical entity mentioned in the doc\n",
        "4. Use a RegEx to find any death count mentioned in the doc\n",
        "5. Find the similarity between the entire doc and the doc \"I am happy\""
      ]
    },
    {
      "cell_type": "code",
      "metadata": {
        "id": "LnGpSW3UahL1",
        "colab_type": "code",
        "colab": {
          "base_uri": "https://localhost:8080/",
          "height": 309
        },
        "outputId": "02131488-812d-4a41-d6a8-c7e01340076d"
      },
      "source": [
        "!pip install spaCy "
      ],
      "execution_count": 1,
      "outputs": [
        {
          "output_type": "stream",
          "text": [
            "Requirement already satisfied: spaCy in /usr/local/lib/python3.6/dist-packages (2.1.8)\n",
            "Requirement already satisfied: cymem<2.1.0,>=2.0.2 in /usr/local/lib/python3.6/dist-packages (from spaCy) (2.0.2)\n",
            "Requirement already satisfied: thinc<7.1.0,>=7.0.8 in /usr/local/lib/python3.6/dist-packages (from spaCy) (7.0.8)\n",
            "Requirement already satisfied: requests<3.0.0,>=2.13.0 in /usr/local/lib/python3.6/dist-packages (from spaCy) (2.21.0)\n",
            "Requirement already satisfied: numpy>=1.15.0 in /usr/local/lib/python3.6/dist-packages (from spaCy) (1.17.3)\n",
            "Requirement already satisfied: preshed<2.1.0,>=2.0.1 in /usr/local/lib/python3.6/dist-packages (from spaCy) (2.0.1)\n",
            "Requirement already satisfied: srsly<1.1.0,>=0.0.6 in /usr/local/lib/python3.6/dist-packages (from spaCy) (0.1.0)\n",
            "Requirement already satisfied: blis<0.3.0,>=0.2.2 in /usr/local/lib/python3.6/dist-packages (from spaCy) (0.2.4)\n",
            "Requirement already satisfied: wasabi<1.1.0,>=0.2.0 in /usr/local/lib/python3.6/dist-packages (from spaCy) (0.2.2)\n",
            "Requirement already satisfied: murmurhash<1.1.0,>=0.28.0 in /usr/local/lib/python3.6/dist-packages (from spaCy) (1.0.2)\n",
            "Requirement already satisfied: plac<1.0.0,>=0.9.6 in /usr/local/lib/python3.6/dist-packages (from spaCy) (0.9.6)\n",
            "Requirement already satisfied: tqdm<5.0.0,>=4.10.0 in /usr/local/lib/python3.6/dist-packages (from thinc<7.1.0,>=7.0.8->spaCy) (4.28.1)\n",
            "Requirement already satisfied: chardet<3.1.0,>=3.0.2 in /usr/local/lib/python3.6/dist-packages (from requests<3.0.0,>=2.13.0->spaCy) (3.0.4)\n",
            "Requirement already satisfied: urllib3<1.25,>=1.21.1 in /usr/local/lib/python3.6/dist-packages (from requests<3.0.0,>=2.13.0->spaCy) (1.24.3)\n",
            "Requirement already satisfied: idna<2.9,>=2.5 in /usr/local/lib/python3.6/dist-packages (from requests<3.0.0,>=2.13.0->spaCy) (2.8)\n",
            "Requirement already satisfied: certifi>=2017.4.17 in /usr/local/lib/python3.6/dist-packages (from requests<3.0.0,>=2.13.0->spaCy) (2019.9.11)\n"
          ],
          "name": "stdout"
        }
      ]
    },
    {
      "cell_type": "code",
      "metadata": {
        "scrolled": false,
        "id": "YYzyfBwLZ_cA",
        "colab_type": "code",
        "colab": {}
      },
      "source": [
        "import spacy \n",
        "from spacy.lang.en import English # import the English language class\n",
        "nlp = spacy.load('en') # loading in the package we just downloaded..."
      ],
      "execution_count": 0,
      "outputs": []
    },
    {
      "cell_type": "code",
      "metadata": {
        "id": "0BnPqDnmZ_cD",
        "colab_type": "code",
        "colab": {}
      },
      "source": [
        "# tis text is copy/pasted from a WSJ article by Brianna Abbott published 10/10/2019 at https://www.wsj.com/articles/vaping-related-lung-illnesses-jump-to-1-299-with-26-deaths-cdc-says-11570730171?mod=hp_lead_pos10\n",
        "\n",
        "text = \"\"\"\n",
        "\n",
        "The number of confirmed and probable lung-injury cases linked to vaping increased to 1,299, including 26 deaths, the federal Centers for Disease Control and Prevention said Thursday.\n",
        "\n",
        "The count of cases rose by 219 from a week ago.\n",
        "\n",
        "The cases were spread across 49 states, the District of Columbia, and the U.S. Virgin Islands, and 26 people have died. Alaska is the only state without reported cases.\n",
        "\n",
        "Connecticut, Pennsylvania, Michigan, Massachusetts, New York and Texas confirmed deaths for the first time over the past week. Georgia and California confirmed an additional death each.\n",
        "\n",
        "Among the deaths recently reported was of a 17-year-old from New York City, one of the youngest people reported to have died due to vaping-related injury so far.\n",
        "\n",
        "The CDC’s count of vaping-related deaths didn’t include one reported Wednesday by Utah’s health department. It said a person under the age of 30 years had died at home, without being hospitalized. The victim died after vaping products containing THC, the psychoactive ingredient in marijuana.\n",
        "\n",
        "If confirmed by the CDC, the Utah death would raise the total number of vaping-related fatalities across the U.S. to 27.\n",
        "\n",
        "Investigators from the Food and Drug Administration are conducting a criminal probe into the supply chain for vaping products, while health authorities investigate what is causing the vaping-related illnesses.\n",
        "\n",
        "The authorities have found that, among the 573 patients who reported their vaping habits, 76% reported using products containing THC. Many had bought the products on the black market, according to previous reports.\n",
        "\n",
        "Yet health officials say they haven’t linked any one product or substance with all of the illnesses, as only a third of the patients have reported exclusive THC use and only 13% have reported exclusive nicotine-product use.\n",
        "\n",
        "As the numbers of injured have risen, health authorities have urged people to stop using electronic cigarettes, some highlighting THC-containing products specifically.\n",
        "\n",
        "Separately, states including Massachusetts, New York and Washington have taken steps to crack down on flavored e-cigarettes, which the Trump administration has also said it would take.\n",
        "\n",
        "\"\"\""
      ],
      "execution_count": 0,
      "outputs": []
    },
    {
      "cell_type": "code",
      "metadata": {
        "id": "n-eOB5cbawCS",
        "colab_type": "code",
        "colab": {
          "base_uri": "https://localhost:8080/",
          "height": 496
        },
        "outputId": "74af54a5-2697-49c4-8a81-40cae2dca0f0"
      },
      "source": [
        "print(text)"
      ],
      "execution_count": 4,
      "outputs": [
        {
          "output_type": "stream",
          "text": [
            "\n",
            "\n",
            "The number of confirmed and probable lung-injury cases linked to vaping increased to 1,299, including 26 deaths, the federal Centers for Disease Control and Prevention said Thursday.\n",
            "\n",
            "The count of cases rose by 219 from a week ago.\n",
            "\n",
            "The cases were spread across 49 states, the District of Columbia, and the U.S. Virgin Islands, and 26 people have died. Alaska is the only state without reported cases.\n",
            "\n",
            "Connecticut, Pennsylvania, Michigan, Massachusetts, New York and Texas confirmed deaths for the first time over the past week. Georgia and California confirmed an additional death each.\n",
            "\n",
            "Among the deaths recently reported was of a 17-year-old from New York City, one of the youngest people reported to have died due to vaping-related injury so far.\n",
            "\n",
            "The CDC’s count of vaping-related deaths didn’t include one reported Wednesday by Utah’s health department. It said a person under the age of 30 years had died at home, without being hospitalized. The victim died after vaping products containing THC, the psychoactive ingredient in marijuana.\n",
            "\n",
            "If confirmed by the CDC, the Utah death would raise the total number of vaping-related fatalities across the U.S. to 27.\n",
            "\n",
            "Investigators from the Food and Drug Administration are conducting a criminal probe into the supply chain for vaping products, while health authorities investigate what is causing the vaping-related illnesses.\n",
            "\n",
            "The authorities have found that, among the 573 patients who reported their vaping habits, 76% reported using products containing THC. Many had bought the products on the black market, according to previous reports.\n",
            "\n",
            "Yet health officials say they haven’t linked any one product or substance with all of the illnesses, as only a third of the patients have reported exclusive THC use and only 13% have reported exclusive nicotine-product use.\n",
            "\n",
            "As the numbers of injured have risen, health authorities have urged people to stop using electronic cigarettes, some highlighting THC-containing products specifically.\n",
            "\n",
            "Separately, states including Massachusetts, New York and Washington have taken steps to crack down on flavored e-cigarettes, which the Trump administration has also said it would take.\n",
            "\n",
            "\n"
          ],
          "name": "stdout"
        }
      ]
    },
    {
      "cell_type": "markdown",
      "metadata": {
        "id": "so4ISTMSZ_cF",
        "colab_type": "text"
      },
      "source": [
        "## 1. Creating a Spacy doc from our text"
      ]
    },
    {
      "cell_type": "code",
      "metadata": {
        "id": "yNfgbZmxZ_cF",
        "colab_type": "code",
        "colab": {
          "base_uri": "https://localhost:8080/",
          "height": 496
        },
        "outputId": "c70d4544-3a20-441e-9724-23385fcb382d"
      },
      "source": [
        "# your solution here \n",
        "doc=nlp(text)\n",
        "print(doc)"
      ],
      "execution_count": 5,
      "outputs": [
        {
          "output_type": "stream",
          "text": [
            "\n",
            "\n",
            "The number of confirmed and probable lung-injury cases linked to vaping increased to 1,299, including 26 deaths, the federal Centers for Disease Control and Prevention said Thursday.\n",
            "\n",
            "The count of cases rose by 219 from a week ago.\n",
            "\n",
            "The cases were spread across 49 states, the District of Columbia, and the U.S. Virgin Islands, and 26 people have died. Alaska is the only state without reported cases.\n",
            "\n",
            "Connecticut, Pennsylvania, Michigan, Massachusetts, New York and Texas confirmed deaths for the first time over the past week. Georgia and California confirmed an additional death each.\n",
            "\n",
            "Among the deaths recently reported was of a 17-year-old from New York City, one of the youngest people reported to have died due to vaping-related injury so far.\n",
            "\n",
            "The CDC’s count of vaping-related deaths didn’t include one reported Wednesday by Utah’s health department. It said a person under the age of 30 years had died at home, without being hospitalized. The victim died after vaping products containing THC, the psychoactive ingredient in marijuana.\n",
            "\n",
            "If confirmed by the CDC, the Utah death would raise the total number of vaping-related fatalities across the U.S. to 27.\n",
            "\n",
            "Investigators from the Food and Drug Administration are conducting a criminal probe into the supply chain for vaping products, while health authorities investigate what is causing the vaping-related illnesses.\n",
            "\n",
            "The authorities have found that, among the 573 patients who reported their vaping habits, 76% reported using products containing THC. Many had bought the products on the black market, according to previous reports.\n",
            "\n",
            "Yet health officials say they haven’t linked any one product or substance with all of the illnesses, as only a third of the patients have reported exclusive THC use and only 13% have reported exclusive nicotine-product use.\n",
            "\n",
            "As the numbers of injured have risen, health authorities have urged people to stop using electronic cigarettes, some highlighting THC-containing products specifically.\n",
            "\n",
            "Separately, states including Massachusetts, New York and Washington have taken steps to crack down on flavored e-cigarettes, which the Trump administration has also said it would take.\n",
            "\n",
            "\n"
          ],
          "name": "stdout"
        }
      ]
    },
    {
      "cell_type": "markdown",
      "metadata": {
        "id": "2we_Q_QDZ_cH",
        "colab_type": "text"
      },
      "source": [
        "## 2. Finding the token text and associated part of speech for each token in our doc"
      ]
    },
    {
      "cell_type": "code",
      "metadata": {
        "id": "hDUG8-FNZ_cI",
        "colab_type": "code",
        "colab": {
          "base_uri": "https://localhost:8080/",
          "height": 1000
        },
        "outputId": "26e7f3f6-ff38-448d-be72-a9f755a8e77f"
      },
      "source": [
        "# your solution here\n",
        "for token in doc: \n",
        "    print(token.text, token.pos_)"
      ],
      "execution_count": 6,
      "outputs": [
        {
          "output_type": "stream",
          "text": [
            "\n",
            "\n",
            " SPACE\n",
            "The DET\n",
            "number NOUN\n",
            "of ADP\n",
            "confirmed VERB\n",
            "and CCONJ\n",
            "probable ADJ\n",
            "lung NOUN\n",
            "- PUNCT\n",
            "injury NOUN\n",
            "cases NOUN\n",
            "linked VERB\n",
            "to ADP\n",
            "vaping VERB\n",
            "increased VERB\n",
            "to ADP\n",
            "1,299 NUM\n",
            ", PUNCT\n",
            "including VERB\n",
            "26 NUM\n",
            "deaths NOUN\n",
            ", PUNCT\n",
            "the DET\n",
            "federal ADJ\n",
            "Centers PROPN\n",
            "for ADP\n",
            "Disease PROPN\n",
            "Control PROPN\n",
            "and CCONJ\n",
            "Prevention PROPN\n",
            "said VERB\n",
            "Thursday PROPN\n",
            ". PUNCT\n",
            "\n",
            "\n",
            " SPACE\n",
            "The DET\n",
            "count NOUN\n",
            "of ADP\n",
            "cases NOUN\n",
            "rose VERB\n",
            "by ADP\n",
            "219 NUM\n",
            "from ADP\n",
            "a DET\n",
            "week NOUN\n",
            "ago ADV\n",
            ". PUNCT\n",
            "\n",
            "\n",
            " SPACE\n",
            "The DET\n",
            "cases NOUN\n",
            "were VERB\n",
            "spread VERB\n",
            "across ADP\n",
            "49 NUM\n",
            "states NOUN\n",
            ", PUNCT\n",
            "the DET\n",
            "District PROPN\n",
            "of ADP\n",
            "Columbia PROPN\n",
            ", PUNCT\n",
            "and CCONJ\n",
            "the DET\n",
            "U.S. PROPN\n",
            "Virgin PROPN\n",
            "Islands PROPN\n",
            ", PUNCT\n",
            "and CCONJ\n",
            "26 NUM\n",
            "people NOUN\n",
            "have VERB\n",
            "died VERB\n",
            ". PUNCT\n",
            "Alaska PROPN\n",
            "is VERB\n",
            "the DET\n",
            "only ADJ\n",
            "state NOUN\n",
            "without ADP\n",
            "reported VERB\n",
            "cases NOUN\n",
            ". PUNCT\n",
            "\n",
            "\n",
            " SPACE\n",
            "Connecticut PROPN\n",
            ", PUNCT\n",
            "Pennsylvania PROPN\n",
            ", PUNCT\n",
            "Michigan PROPN\n",
            ", PUNCT\n",
            "Massachusetts PROPN\n",
            ", PUNCT\n",
            "New PROPN\n",
            "York PROPN\n",
            "and CCONJ\n",
            "Texas PROPN\n",
            "confirmed VERB\n",
            "deaths NOUN\n",
            "for ADP\n",
            "the DET\n",
            "first ADJ\n",
            "time NOUN\n",
            "over ADP\n",
            "the DET\n",
            "past ADJ\n",
            "week NOUN\n",
            ". PUNCT\n",
            "Georgia PROPN\n",
            "and CCONJ\n",
            "California PROPN\n",
            "confirmed VERB\n",
            "an DET\n",
            "additional ADJ\n",
            "death NOUN\n",
            "each DET\n",
            ". PUNCT\n",
            "\n",
            "\n",
            " SPACE\n",
            "Among ADP\n",
            "the DET\n",
            "deaths NOUN\n",
            "recently ADV\n",
            "reported VERB\n",
            "was VERB\n",
            "of ADP\n",
            "a DET\n",
            "17-year ADJ\n",
            "- PUNCT\n",
            "old ADJ\n",
            "from ADP\n",
            "New PROPN\n",
            "York PROPN\n",
            "City PROPN\n",
            ", PUNCT\n",
            "one NUM\n",
            "of ADP\n",
            "the DET\n",
            "youngest ADJ\n",
            "people NOUN\n",
            "reported VERB\n",
            "to PART\n",
            "have VERB\n",
            "died VERB\n",
            "due ADP\n",
            "to ADP\n",
            "vaping VERB\n",
            "- PUNCT\n",
            "related VERB\n",
            "injury NOUN\n",
            "so ADV\n",
            "far ADV\n",
            ". PUNCT\n",
            "\n",
            "\n",
            " SPACE\n",
            "The DET\n",
            "CDC PROPN\n",
            "’s PROPN\n",
            "count NOUN\n",
            "of ADP\n",
            "vaping VERB\n",
            "- PUNCT\n",
            "related VERB\n",
            "deaths NOUN\n",
            "did VERB\n",
            "n’t ADV\n",
            "include VERB\n",
            "one NUM\n",
            "reported VERB\n",
            "Wednesday PROPN\n",
            "by ADP\n",
            "Utah PROPN\n",
            "’s PROPN\n",
            "health NOUN\n",
            "department NOUN\n",
            ". PUNCT\n",
            "It PRON\n",
            "said VERB\n",
            "a DET\n",
            "person NOUN\n",
            "under ADP\n",
            "the DET\n",
            "age NOUN\n",
            "of ADP\n",
            "30 NUM\n",
            "years NOUN\n",
            "had VERB\n",
            "died VERB\n",
            "at ADP\n",
            "home NOUN\n",
            ", PUNCT\n",
            "without ADP\n",
            "being VERB\n",
            "hospitalized VERB\n",
            ". PUNCT\n",
            "The DET\n",
            "victim NOUN\n",
            "died VERB\n",
            "after ADP\n",
            "vaping VERB\n",
            "products NOUN\n",
            "containing VERB\n",
            "THC PROPN\n",
            ", PUNCT\n",
            "the DET\n",
            "psychoactive ADJ\n",
            "ingredient NOUN\n",
            "in ADP\n",
            "marijuana NOUN\n",
            ". PUNCT\n",
            "\n",
            "\n",
            " SPACE\n",
            "If ADP\n",
            "confirmed VERB\n",
            "by ADP\n",
            "the DET\n",
            "CDC PROPN\n",
            ", PUNCT\n",
            "the DET\n",
            "Utah PROPN\n",
            "death NOUN\n",
            "would VERB\n",
            "raise VERB\n",
            "the DET\n",
            "total ADJ\n",
            "number NOUN\n",
            "of ADP\n",
            "vaping VERB\n",
            "- PUNCT\n",
            "related VERB\n",
            "fatalities NOUN\n",
            "across ADP\n",
            "the DET\n",
            "U.S. PROPN\n",
            "to ADP\n",
            "27 NUM\n",
            ". PUNCT\n",
            "\n",
            "\n",
            " SPACE\n",
            "Investigators PROPN\n",
            "from ADP\n",
            "the DET\n",
            "Food PROPN\n",
            "and CCONJ\n",
            "Drug PROPN\n",
            "Administration PROPN\n",
            "are VERB\n",
            "conducting VERB\n",
            "a DET\n",
            "criminal ADJ\n",
            "probe NOUN\n",
            "into ADP\n",
            "the DET\n",
            "supply NOUN\n",
            "chain NOUN\n",
            "for ADP\n",
            "vaping VERB\n",
            "products NOUN\n",
            ", PUNCT\n",
            "while ADP\n",
            "health NOUN\n",
            "authorities NOUN\n",
            "investigate VERB\n",
            "what PRON\n",
            "is VERB\n",
            "causing VERB\n",
            "the DET\n",
            "vaping NOUN\n",
            "- PUNCT\n",
            "related VERB\n",
            "illnesses NOUN\n",
            ". PUNCT\n",
            "\n",
            "\n",
            " SPACE\n",
            "The DET\n",
            "authorities NOUN\n",
            "have VERB\n",
            "found VERB\n",
            "that ADP\n",
            ", PUNCT\n",
            "among ADP\n",
            "the DET\n",
            "573 NUM\n",
            "patients NOUN\n",
            "who PRON\n",
            "reported VERB\n",
            "their DET\n",
            "vaping NOUN\n",
            "habits NOUN\n",
            ", PUNCT\n",
            "76 NUM\n",
            "% NOUN\n",
            "reported VERB\n",
            "using VERB\n",
            "products NOUN\n",
            "containing VERB\n",
            "THC PROPN\n",
            ". PUNCT\n",
            "Many ADJ\n",
            "had VERB\n",
            "bought VERB\n",
            "the DET\n",
            "products NOUN\n",
            "on ADP\n",
            "the DET\n",
            "black ADJ\n",
            "market NOUN\n",
            ", PUNCT\n",
            "according VERB\n",
            "to ADP\n",
            "previous ADJ\n",
            "reports NOUN\n",
            ". PUNCT\n",
            "\n",
            "\n",
            " SPACE\n",
            "Yet CCONJ\n",
            "health NOUN\n",
            "officials NOUN\n",
            "say VERB\n",
            "they PRON\n",
            "have VERB\n",
            "n’t ADV\n",
            "linked VERB\n",
            "any DET\n",
            "one NUM\n",
            "product NOUN\n",
            "or CCONJ\n",
            "substance NOUN\n",
            "with ADP\n",
            "all DET\n",
            "of ADP\n",
            "the DET\n",
            "illnesses NOUN\n",
            ", PUNCT\n",
            "as ADP\n",
            "only ADV\n",
            "a DET\n",
            "third NOUN\n",
            "of ADP\n",
            "the DET\n",
            "patients NOUN\n",
            "have VERB\n",
            "reported VERB\n",
            "exclusive ADJ\n",
            "THC PROPN\n",
            "use NOUN\n",
            "and CCONJ\n",
            "only ADV\n",
            "13 NUM\n",
            "% NOUN\n",
            "have VERB\n",
            "reported VERB\n",
            "exclusive ADJ\n",
            "nicotine NOUN\n",
            "- PUNCT\n",
            "product NOUN\n",
            "use NOUN\n",
            ". PUNCT\n",
            "\n",
            "\n",
            " SPACE\n",
            "As ADP\n",
            "the DET\n",
            "numbers NOUN\n",
            "of ADP\n",
            "injured VERB\n",
            "have VERB\n",
            "risen VERB\n",
            ", PUNCT\n",
            "health NOUN\n",
            "authorities NOUN\n",
            "have VERB\n",
            "urged VERB\n",
            "people NOUN\n",
            "to PART\n",
            "stop VERB\n",
            "using VERB\n",
            "electronic ADJ\n",
            "cigarettes NOUN\n",
            ", PUNCT\n",
            "some DET\n",
            "highlighting VERB\n",
            "THC NOUN\n",
            "- PUNCT\n",
            "containing VERB\n",
            "products NOUN\n",
            "specifically ADV\n",
            ". PUNCT\n",
            "\n",
            "\n",
            " SPACE\n",
            "Separately ADV\n",
            ", PUNCT\n",
            "states NOUN\n",
            "including VERB\n",
            "Massachusetts PROPN\n",
            ", PUNCT\n",
            "New PROPN\n",
            "York PROPN\n",
            "and CCONJ\n",
            "Washington PROPN\n",
            "have VERB\n",
            "taken VERB\n",
            "steps NOUN\n",
            "to PART\n",
            "crack VERB\n",
            "down PART\n",
            "on ADP\n",
            "flavored VERB\n",
            "e NOUN\n",
            "- PUNCT\n",
            "cigarettes NOUN\n",
            ", PUNCT\n",
            "which DET\n",
            "the DET\n",
            "Trump PROPN\n",
            "administration NOUN\n",
            "has VERB\n",
            "also ADV\n",
            "said VERB\n",
            "it PRON\n",
            "would VERB\n",
            "take VERB\n",
            ". PUNCT\n",
            "\n",
            "\n",
            " SPACE\n"
          ],
          "name": "stdout"
        }
      ]
    },
    {
      "cell_type": "markdown",
      "metadata": {
        "id": "WbUa-UDqZ_cK",
        "colab_type": "text"
      },
      "source": [
        "## 3. Creating a set of each geopolitical entity mentioned in the article"
      ]
    },
    {
      "cell_type": "code",
      "metadata": {
        "scrolled": true,
        "id": "ZmOl51DjZ_cK",
        "colab_type": "code",
        "colab": {
          "base_uri": "https://localhost:8080/",
          "height": 54
        },
        "outputId": "2719ab76-59fd-45ff-af45-4068e27726b1"
      },
      "source": [
        "# your solution here\n",
        "\n",
        "GPE_set = set()\n",
        "for ent in doc.ents:\n",
        "    if ent.label_==\"GPE\":\n",
        "      GPE_set.add(ent.text)\n",
        "      #print(ent.text, ent.label_)      \n",
        "print(GPE_set)"
      ],
      "execution_count": 18,
      "outputs": [
        {
          "output_type": "stream",
          "text": [
            "{'Texas', 'Georgia', 'Washington', 'Massachusetts', 'the U.S. Virgin Islands', 'Alaska', 'the District of Columbia', 'Pennsylvania', 'New York City', 'Michigan', 'Utah', 'New York', 'Connecticut', 'California', 'U.S.'}\n"
          ],
          "name": "stdout"
        }
      ]
    },
    {
      "cell_type": "markdown",
      "metadata": {
        "id": "iHk5u_dYZ_cM",
        "colab_type": "text"
      },
      "source": [
        "## 4. Using a RegEx to find any mention of a death count"
      ]
    },
    {
      "cell_type": "code",
      "metadata": {
        "id": "kzkzy54nZ_cN",
        "colab_type": "code",
        "colab": {
          "base_uri": "https://localhost:8080/",
          "height": 34
        },
        "outputId": "1211ae37-86bb-4cec-b3e0-f0074d9584df"
      },
      "source": [
        "# your solution here \n",
        "import re\n",
        "from re import search\n",
        "regex = re.compile(r'death count')\n",
        "matches = regex.finditer(text)\n",
        "\n",
        "for match in matches: \n",
        "    print(match.group())\n",
        "    \n",
        "  "
      ],
      "execution_count": 44,
      "outputs": [
        {
          "output_type": "stream",
          "text": [
            "No match\n"
          ],
          "name": "stdout"
        }
      ]
    },
    {
      "cell_type": "code",
      "metadata": {
        "id": "qC_uIDa5-4qG",
        "colab_type": "code",
        "colab": {}
      },
      "source": [
        ""
      ],
      "execution_count": 0,
      "outputs": []
    },
    {
      "cell_type": "markdown",
      "metadata": {
        "id": "fQXZrsQLZ_cP",
        "colab_type": "text"
      },
      "source": [
        "## 5. Finding the similarity between the entire doc and the doc \"I am happy\""
      ]
    },
    {
      "cell_type": "code",
      "metadata": {
        "id": "LV_s-cj9iRa0",
        "colab_type": "code",
        "colab": {
          "base_uri": "https://localhost:8080/",
          "height": 241
        },
        "outputId": "c907e11d-d64c-44a4-883d-d58ef041d57a"
      },
      "source": [
        "!sudo python -m spacy download en_core_web_md"
      ],
      "execution_count": 21,
      "outputs": [
        {
          "output_type": "stream",
          "text": [
            "Collecting en_core_web_md==2.1.0\n",
            "\u001b[?25l  Downloading https://github.com/explosion/spacy-models/releases/download/en_core_web_md-2.1.0/en_core_web_md-2.1.0.tar.gz (95.4MB)\n",
            "\u001b[K     |████████████████████████████████| 95.4MB 44.5MB/s \n",
            "\u001b[?25hBuilding wheels for collected packages: en-core-web-md\n",
            "  Building wheel for en-core-web-md (setup.py) ... \u001b[?25l\u001b[?25hdone\n",
            "  Created wheel for en-core-web-md: filename=en_core_web_md-2.1.0-cp36-none-any.whl size=97126237 sha256=ea5caf13ad6ed8422367475b85c1aec71ad50ba93aa31a89c02e0b5c305ba339\n",
            "  Stored in directory: /tmp/pip-ephem-wheel-cache-xncx2vkr/wheels/c1/2c/5f/fd7f3ec336bf97b0809c86264d2831c5dfb00fc2e239d1bb01\n",
            "Successfully built en-core-web-md\n",
            "Installing collected packages: en-core-web-md\n",
            "Successfully installed en-core-web-md-2.1.0\n",
            "\u001b[38;5;2m✔ Download and installation successful\u001b[0m\n",
            "You can now load the model via spacy.load('en_core_web_md')\n"
          ],
          "name": "stdout"
        }
      ]
    },
    {
      "cell_type": "code",
      "metadata": {
        "id": "s9WZzJOyZ_cP",
        "colab_type": "code",
        "colab": {
          "base_uri": "https://localhost:8080/",
          "height": 34
        },
        "outputId": "0a3ba586-a599-4e9d-e35e-820d1213025a"
      },
      "source": [
        "import en_core_web_md \n",
        "\n",
        "nlp1 = en_core_web_md.load()\n",
        "doc1=nlp1(text)\n",
        "doc2 = nlp1(\"I am happy\") \n",
        "\n",
        "\n",
        "print(doc1.similarity(doc2))"
      ],
      "execution_count": 26,
      "outputs": [
        {
          "output_type": "stream",
          "text": [
            "0.5751000633710175\n"
          ],
          "name": "stdout"
        }
      ]
    }
  ]
}