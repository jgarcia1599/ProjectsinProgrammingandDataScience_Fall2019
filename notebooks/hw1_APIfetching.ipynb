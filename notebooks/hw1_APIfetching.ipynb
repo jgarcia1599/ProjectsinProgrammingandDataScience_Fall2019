{
  "nbformat": 4,
  "nbformat_minor": 0,
  "metadata": {
    "colab": {
      "name": "APIfetching.ipynb",
      "provenance": []
    },
    "kernelspec": {
      "name": "python3",
      "display_name": "Python 3"
    }
  },
  "cells": [
    {
      "cell_type": "code",
      "metadata": {
        "id": "195-QtZpOceP",
        "colab_type": "code",
        "outputId": "fc318c70-1be6-4a56-e637-d17e52087742",
        "colab": {
          "base_uri": "https://localhost:8080/",
          "height": 54
        }
      },
      "source": [
        "#I want to find artcile data on Political Debates from the Guardian's Public Web API\n",
        "\n",
        "import json\n",
        "import urllib.request\n",
        "with urllib.request.urlopen(\"https://content.guardianapis.com/search?q=debates&api-key=9a9a3793-fc26-4820-9056-0af70dd409b4\") as url:\n",
        "    data = json.loads(url.read().decode())\n",
        "    print(data)\n"
      ],
      "execution_count": 28,
      "outputs": [
        {
          "output_type": "stream",
          "text": [
            "{'response': {'status': 'ok', 'userTier': 'developer', 'total': 25639, 'startIndex': 1, 'pageSize': 10, 'currentPage': 1, 'pages': 2564, 'orderBy': 'relevance', 'results': [{'id': 'us-news/2019/jun/26/democratic-debate-2019-watch-2020-election-when-where-who', 'type': 'article', 'sectionId': 'us-news', 'sectionName': 'US news', 'webPublicationDate': '2019-06-27T20:23:02Z', 'webTitle': 'Democratic debates 2019: everything you need to know', 'webUrl': 'https://www.theguardian.com/us-news/2019/jun/26/democratic-debate-2019-watch-2020-election-when-where-who', 'apiUrl': 'https://content.guardianapis.com/us-news/2019/jun/26/democratic-debate-2019-watch-2020-election-when-where-who', 'isHosted': False, 'pillarId': 'pillar/news', 'pillarName': 'News'}, {'id': 'us-news/2019/jul/31/healthcare-democrats-2020-debates-detroit', 'type': 'article', 'sectionId': 'us-news', 'sectionName': 'US news', 'webPublicationDate': '2019-07-31T19:39:21Z', 'webTitle': 'Democratic debates: how healthcare is defining and dividing 2020 candidates', 'webUrl': 'https://www.theguardian.com/us-news/2019/jul/31/healthcare-democrats-2020-debates-detroit', 'apiUrl': 'https://content.guardianapis.com/us-news/2019/jul/31/healthcare-democrats-2020-debates-detroit', 'isHosted': False, 'pillarId': 'pillar/news', 'pillarName': 'News'}, {'id': 'commentisfree/2019/may/11/missing-ingredient-debates-generosity-labour-antisemitism', 'type': 'article', 'sectionId': 'commentisfree', 'sectionName': 'Opinion', 'webPublicationDate': '2019-05-11T05:00:12Z', 'webTitle': 'The missing ingredient in today’s debates? Generosity | Gary Younge', 'webUrl': 'https://www.theguardian.com/commentisfree/2019/may/11/missing-ingredient-debates-generosity-labour-antisemitism', 'apiUrl': 'https://content.guardianapis.com/commentisfree/2019/may/11/missing-ingredient-debates-generosity-labour-antisemitism', 'isHosted': False, 'pillarId': 'pillar/opinion', 'pillarName': 'Opinion'}, {'id': 'us-news/2019/jun/26/us-briefing-border-patrol-chief-quits-democrat-debates-and-mueller', 'type': 'article', 'sectionId': 'us-news', 'sectionName': 'US news', 'webPublicationDate': '2019-06-26T10:27:06Z', 'webTitle': 'US briefing: border patrol chief quits, Democrat debates and Mueller', 'webUrl': 'https://www.theguardian.com/us-news/2019/jun/26/us-briefing-border-patrol-chief-quits-democrat-debates-and-mueller', 'apiUrl': 'https://content.guardianapis.com/us-news/2019/jun/26/us-briefing-border-patrol-chief-quits-democrat-debates-and-mueller', 'isHosted': False, 'pillarId': 'pillar/news', 'pillarName': 'News'}, {'id': 'us-news/2019/sep/10/presidential-debates-2020-houston-gun-control', 'type': 'article', 'sectionId': 'us-news', 'sectionName': 'US news', 'webPublicationDate': '2019-09-10T06:00:42Z', 'webTitle': 'As Houston readies to host the next 2020 debates, focus turns to gun control', 'webUrl': 'https://www.theguardian.com/us-news/2019/sep/10/presidential-debates-2020-houston-gun-control', 'apiUrl': 'https://content.guardianapis.com/us-news/2019/sep/10/presidential-debates-2020-houston-gun-control', 'isHosted': False, 'pillarId': 'pillar/news', 'pillarName': 'News'}, {'id': 'us-news/2019/jul/18/democratic-debates-biden-harris-bernie-warren-2020', 'type': 'article', 'sectionId': 'us-news', 'sectionName': 'US news', 'webPublicationDate': '2019-07-19T01:45:58Z', 'webTitle': 'Democratic debates: Biden and Harris will face off again in second round', 'webUrl': 'https://www.theguardian.com/us-news/2019/jul/18/democratic-debates-biden-harris-bernie-warren-2020', 'apiUrl': 'https://content.guardianapis.com/us-news/2019/jul/18/democratic-debates-biden-harris-bernie-warren-2020', 'isHosted': False, 'pillarId': 'pillar/news', 'pillarName': 'News'}, {'id': 'commentisfree/2019/jun/29/democratic-debate-kamala-harris-elizabeth-warren-trump', 'type': 'article', 'sectionId': 'commentisfree', 'sectionName': 'Opinion', 'webPublicationDate': '2019-06-29T10:00:46Z', 'webTitle': 'Who won the Democratic debates? Kamala Harris, Elizabeth Warren – and Trump | Cas Mudde', 'webUrl': 'https://www.theguardian.com/commentisfree/2019/jun/29/democratic-debate-kamala-harris-elizabeth-warren-trump', 'apiUrl': 'https://content.guardianapis.com/commentisfree/2019/jun/29/democratic-debate-kamala-harris-elizabeth-warren-trump', 'isHosted': False, 'pillarId': 'pillar/opinion', 'pillarName': 'Opinion'}, {'id': 'us-news/live/2019/jul/30/democratic-debates-2019-live-news-tonight-bernie-sanders-elizabeth-warren-buttigieg-o-rourke-latest', 'type': 'liveblog', 'sectionId': 'us-news', 'sectionName': 'US news', 'webPublicationDate': '2019-07-31T04:40:19Z', 'webTitle': 'Democratic debates: Sanders and Warren team up against moderate attacks – as it happened', 'webUrl': 'https://www.theguardian.com/us-news/live/2019/jul/30/democratic-debates-2019-live-news-tonight-bernie-sanders-elizabeth-warren-buttigieg-o-rourke-latest', 'apiUrl': 'https://content.guardianapis.com/us-news/live/2019/jul/30/democratic-debates-2019-live-news-tonight-bernie-sanders-elizabeth-warren-buttigieg-o-rourke-latest', 'isHosted': False, 'pillarId': 'pillar/news', 'pillarName': 'News'}, {'id': 'politics/2019/jun/21/jeremy-hunt-calls-for-live-tv-debates-before-tory-voting-begins', 'type': 'article', 'sectionId': 'politics', 'sectionName': 'Politics', 'webPublicationDate': '2019-06-21T21:30:54Z', 'webTitle': 'Jeremy Hunt calls for live TV debates before Tory voting begins', 'webUrl': 'https://www.theguardian.com/politics/2019/jun/21/jeremy-hunt-calls-for-live-tv-debates-before-tory-voting-begins', 'apiUrl': 'https://content.guardianapis.com/politics/2019/jun/21/jeremy-hunt-calls-for-live-tv-debates-before-tory-voting-begins', 'isHosted': False, 'pillarId': 'pillar/news', 'pillarName': 'News'}, {'id': 'commentisfree/2019/aug/03/democratic-debates-control-trump-campaign', 'type': 'article', 'sectionId': 'commentisfree', 'sectionName': 'Opinion', 'webPublicationDate': '2019-08-03T10:00:46Z', 'webTitle': \"The Democratic party must control the debates – or they play into Trump's hands | Cas Mudde\", 'webUrl': 'https://www.theguardian.com/commentisfree/2019/aug/03/democratic-debates-control-trump-campaign', 'apiUrl': 'https://content.guardianapis.com/commentisfree/2019/aug/03/democratic-debates-control-trump-campaign', 'isHosted': False, 'pillarId': 'pillar/opinion', 'pillarName': 'Opinion'}]}}\n"
          ],
          "name": "stdout"
        }
      ]
    },
    {
      "cell_type": "code",
      "metadata": {
        "id": "ZT-PM2RWQNLT",
        "colab_type": "code",
        "colab": {
          "base_uri": "https://localhost:8080/",
          "height": 54
        },
        "outputId": "f6aa0277-fe94-41ba-ec2c-0b6be12abd8a"
      },
      "source": [
        "response=data['response']\n",
        "articles=response['results'] #to extract the articles from the jsonfile, I had to first extract the inner jason file from the content endpoint in the guardian API\n",
        "print(articles)"
      ],
      "execution_count": 29,
      "outputs": [
        {
          "output_type": "stream",
          "text": [
            "[{'id': 'us-news/2019/jun/26/democratic-debate-2019-watch-2020-election-when-where-who', 'type': 'article', 'sectionId': 'us-news', 'sectionName': 'US news', 'webPublicationDate': '2019-06-27T20:23:02Z', 'webTitle': 'Democratic debates 2019: everything you need to know', 'webUrl': 'https://www.theguardian.com/us-news/2019/jun/26/democratic-debate-2019-watch-2020-election-when-where-who', 'apiUrl': 'https://content.guardianapis.com/us-news/2019/jun/26/democratic-debate-2019-watch-2020-election-when-where-who', 'isHosted': False, 'pillarId': 'pillar/news', 'pillarName': 'News'}, {'id': 'us-news/2019/jul/31/healthcare-democrats-2020-debates-detroit', 'type': 'article', 'sectionId': 'us-news', 'sectionName': 'US news', 'webPublicationDate': '2019-07-31T19:39:21Z', 'webTitle': 'Democratic debates: how healthcare is defining and dividing 2020 candidates', 'webUrl': 'https://www.theguardian.com/us-news/2019/jul/31/healthcare-democrats-2020-debates-detroit', 'apiUrl': 'https://content.guardianapis.com/us-news/2019/jul/31/healthcare-democrats-2020-debates-detroit', 'isHosted': False, 'pillarId': 'pillar/news', 'pillarName': 'News'}, {'id': 'commentisfree/2019/may/11/missing-ingredient-debates-generosity-labour-antisemitism', 'type': 'article', 'sectionId': 'commentisfree', 'sectionName': 'Opinion', 'webPublicationDate': '2019-05-11T05:00:12Z', 'webTitle': 'The missing ingredient in today’s debates? Generosity | Gary Younge', 'webUrl': 'https://www.theguardian.com/commentisfree/2019/may/11/missing-ingredient-debates-generosity-labour-antisemitism', 'apiUrl': 'https://content.guardianapis.com/commentisfree/2019/may/11/missing-ingredient-debates-generosity-labour-antisemitism', 'isHosted': False, 'pillarId': 'pillar/opinion', 'pillarName': 'Opinion'}, {'id': 'us-news/2019/jun/26/us-briefing-border-patrol-chief-quits-democrat-debates-and-mueller', 'type': 'article', 'sectionId': 'us-news', 'sectionName': 'US news', 'webPublicationDate': '2019-06-26T10:27:06Z', 'webTitle': 'US briefing: border patrol chief quits, Democrat debates and Mueller', 'webUrl': 'https://www.theguardian.com/us-news/2019/jun/26/us-briefing-border-patrol-chief-quits-democrat-debates-and-mueller', 'apiUrl': 'https://content.guardianapis.com/us-news/2019/jun/26/us-briefing-border-patrol-chief-quits-democrat-debates-and-mueller', 'isHosted': False, 'pillarId': 'pillar/news', 'pillarName': 'News'}, {'id': 'us-news/2019/sep/10/presidential-debates-2020-houston-gun-control', 'type': 'article', 'sectionId': 'us-news', 'sectionName': 'US news', 'webPublicationDate': '2019-09-10T06:00:42Z', 'webTitle': 'As Houston readies to host the next 2020 debates, focus turns to gun control', 'webUrl': 'https://www.theguardian.com/us-news/2019/sep/10/presidential-debates-2020-houston-gun-control', 'apiUrl': 'https://content.guardianapis.com/us-news/2019/sep/10/presidential-debates-2020-houston-gun-control', 'isHosted': False, 'pillarId': 'pillar/news', 'pillarName': 'News'}, {'id': 'us-news/2019/jul/18/democratic-debates-biden-harris-bernie-warren-2020', 'type': 'article', 'sectionId': 'us-news', 'sectionName': 'US news', 'webPublicationDate': '2019-07-19T01:45:58Z', 'webTitle': 'Democratic debates: Biden and Harris will face off again in second round', 'webUrl': 'https://www.theguardian.com/us-news/2019/jul/18/democratic-debates-biden-harris-bernie-warren-2020', 'apiUrl': 'https://content.guardianapis.com/us-news/2019/jul/18/democratic-debates-biden-harris-bernie-warren-2020', 'isHosted': False, 'pillarId': 'pillar/news', 'pillarName': 'News'}, {'id': 'commentisfree/2019/jun/29/democratic-debate-kamala-harris-elizabeth-warren-trump', 'type': 'article', 'sectionId': 'commentisfree', 'sectionName': 'Opinion', 'webPublicationDate': '2019-06-29T10:00:46Z', 'webTitle': 'Who won the Democratic debates? Kamala Harris, Elizabeth Warren – and Trump | Cas Mudde', 'webUrl': 'https://www.theguardian.com/commentisfree/2019/jun/29/democratic-debate-kamala-harris-elizabeth-warren-trump', 'apiUrl': 'https://content.guardianapis.com/commentisfree/2019/jun/29/democratic-debate-kamala-harris-elizabeth-warren-trump', 'isHosted': False, 'pillarId': 'pillar/opinion', 'pillarName': 'Opinion'}, {'id': 'us-news/live/2019/jul/30/democratic-debates-2019-live-news-tonight-bernie-sanders-elizabeth-warren-buttigieg-o-rourke-latest', 'type': 'liveblog', 'sectionId': 'us-news', 'sectionName': 'US news', 'webPublicationDate': '2019-07-31T04:40:19Z', 'webTitle': 'Democratic debates: Sanders and Warren team up against moderate attacks – as it happened', 'webUrl': 'https://www.theguardian.com/us-news/live/2019/jul/30/democratic-debates-2019-live-news-tonight-bernie-sanders-elizabeth-warren-buttigieg-o-rourke-latest', 'apiUrl': 'https://content.guardianapis.com/us-news/live/2019/jul/30/democratic-debates-2019-live-news-tonight-bernie-sanders-elizabeth-warren-buttigieg-o-rourke-latest', 'isHosted': False, 'pillarId': 'pillar/news', 'pillarName': 'News'}, {'id': 'politics/2019/jun/21/jeremy-hunt-calls-for-live-tv-debates-before-tory-voting-begins', 'type': 'article', 'sectionId': 'politics', 'sectionName': 'Politics', 'webPublicationDate': '2019-06-21T21:30:54Z', 'webTitle': 'Jeremy Hunt calls for live TV debates before Tory voting begins', 'webUrl': 'https://www.theguardian.com/politics/2019/jun/21/jeremy-hunt-calls-for-live-tv-debates-before-tory-voting-begins', 'apiUrl': 'https://content.guardianapis.com/politics/2019/jun/21/jeremy-hunt-calls-for-live-tv-debates-before-tory-voting-begins', 'isHosted': False, 'pillarId': 'pillar/news', 'pillarName': 'News'}, {'id': 'commentisfree/2019/aug/03/democratic-debates-control-trump-campaign', 'type': 'article', 'sectionId': 'commentisfree', 'sectionName': 'Opinion', 'webPublicationDate': '2019-08-03T10:00:46Z', 'webTitle': \"The Democratic party must control the debates – or they play into Trump's hands | Cas Mudde\", 'webUrl': 'https://www.theguardian.com/commentisfree/2019/aug/03/democratic-debates-control-trump-campaign', 'apiUrl': 'https://content.guardianapis.com/commentisfree/2019/aug/03/democratic-debates-control-trump-campaign', 'isHosted': False, 'pillarId': 'pillar/opinion', 'pillarName': 'Opinion'}]\n"
          ],
          "name": "stdout"
        }
      ]
    },
    {
      "cell_type": "code",
      "metadata": {
        "id": "sk5RbtoaR9sl",
        "colab_type": "code",
        "colab": {
          "base_uri": "https://localhost:8080/",
          "height": 649
        },
        "outputId": "8aa8677d-a10b-40e6-bf37-360a181a6d22"
      },
      "source": [
        "import pandas as pd\n",
        "df_articles=pd.DataFrame(articles)\n",
        "df_articles.head()"
      ],
      "execution_count": 30,
      "outputs": [
        {
          "output_type": "execute_result",
          "data": {
            "text/html": [
              "<div>\n",
              "<style scoped>\n",
              "    .dataframe tbody tr th:only-of-type {\n",
              "        vertical-align: middle;\n",
              "    }\n",
              "\n",
              "    .dataframe tbody tr th {\n",
              "        vertical-align: top;\n",
              "    }\n",
              "\n",
              "    .dataframe thead th {\n",
              "        text-align: right;\n",
              "    }\n",
              "</style>\n",
              "<table border=\"1\" class=\"dataframe\">\n",
              "  <thead>\n",
              "    <tr style=\"text-align: right;\">\n",
              "      <th></th>\n",
              "      <th>apiUrl</th>\n",
              "      <th>id</th>\n",
              "      <th>isHosted</th>\n",
              "      <th>pillarId</th>\n",
              "      <th>pillarName</th>\n",
              "      <th>sectionId</th>\n",
              "      <th>sectionName</th>\n",
              "      <th>type</th>\n",
              "      <th>webPublicationDate</th>\n",
              "      <th>webTitle</th>\n",
              "      <th>webUrl</th>\n",
              "    </tr>\n",
              "  </thead>\n",
              "  <tbody>\n",
              "    <tr>\n",
              "      <th>0</th>\n",
              "      <td>https://content.guardianapis.com/us-news/2019/...</td>\n",
              "      <td>us-news/2019/jun/26/democratic-debate-2019-wat...</td>\n",
              "      <td>False</td>\n",
              "      <td>pillar/news</td>\n",
              "      <td>News</td>\n",
              "      <td>us-news</td>\n",
              "      <td>US news</td>\n",
              "      <td>article</td>\n",
              "      <td>2019-06-27T20:23:02Z</td>\n",
              "      <td>Democratic debates 2019: everything you need t...</td>\n",
              "      <td>https://www.theguardian.com/us-news/2019/jun/2...</td>\n",
              "    </tr>\n",
              "    <tr>\n",
              "      <th>1</th>\n",
              "      <td>https://content.guardianapis.com/us-news/2019/...</td>\n",
              "      <td>us-news/2019/jul/31/healthcare-democrats-2020-...</td>\n",
              "      <td>False</td>\n",
              "      <td>pillar/news</td>\n",
              "      <td>News</td>\n",
              "      <td>us-news</td>\n",
              "      <td>US news</td>\n",
              "      <td>article</td>\n",
              "      <td>2019-07-31T19:39:21Z</td>\n",
              "      <td>Democratic debates: how healthcare is defining...</td>\n",
              "      <td>https://www.theguardian.com/us-news/2019/jul/3...</td>\n",
              "    </tr>\n",
              "    <tr>\n",
              "      <th>2</th>\n",
              "      <td>https://content.guardianapis.com/commentisfree...</td>\n",
              "      <td>commentisfree/2019/may/11/missing-ingredient-d...</td>\n",
              "      <td>False</td>\n",
              "      <td>pillar/opinion</td>\n",
              "      <td>Opinion</td>\n",
              "      <td>commentisfree</td>\n",
              "      <td>Opinion</td>\n",
              "      <td>article</td>\n",
              "      <td>2019-05-11T05:00:12Z</td>\n",
              "      <td>The missing ingredient in today’s debates? Gen...</td>\n",
              "      <td>https://www.theguardian.com/commentisfree/2019...</td>\n",
              "    </tr>\n",
              "    <tr>\n",
              "      <th>3</th>\n",
              "      <td>https://content.guardianapis.com/us-news/2019/...</td>\n",
              "      <td>us-news/2019/jun/26/us-briefing-border-patrol-...</td>\n",
              "      <td>False</td>\n",
              "      <td>pillar/news</td>\n",
              "      <td>News</td>\n",
              "      <td>us-news</td>\n",
              "      <td>US news</td>\n",
              "      <td>article</td>\n",
              "      <td>2019-06-26T10:27:06Z</td>\n",
              "      <td>US briefing: border patrol chief quits, Democr...</td>\n",
              "      <td>https://www.theguardian.com/us-news/2019/jun/2...</td>\n",
              "    </tr>\n",
              "    <tr>\n",
              "      <th>4</th>\n",
              "      <td>https://content.guardianapis.com/us-news/2019/...</td>\n",
              "      <td>us-news/2019/sep/10/presidential-debates-2020-...</td>\n",
              "      <td>False</td>\n",
              "      <td>pillar/news</td>\n",
              "      <td>News</td>\n",
              "      <td>us-news</td>\n",
              "      <td>US news</td>\n",
              "      <td>article</td>\n",
              "      <td>2019-09-10T06:00:42Z</td>\n",
              "      <td>As Houston readies to host the next 2020 debat...</td>\n",
              "      <td>https://www.theguardian.com/us-news/2019/sep/1...</td>\n",
              "    </tr>\n",
              "  </tbody>\n",
              "</table>\n",
              "</div>"
            ],
            "text/plain": [
              "                                              apiUrl  ...                                             webUrl\n",
              "0  https://content.guardianapis.com/us-news/2019/...  ...  https://www.theguardian.com/us-news/2019/jun/2...\n",
              "1  https://content.guardianapis.com/us-news/2019/...  ...  https://www.theguardian.com/us-news/2019/jul/3...\n",
              "2  https://content.guardianapis.com/commentisfree...  ...  https://www.theguardian.com/commentisfree/2019...\n",
              "3  https://content.guardianapis.com/us-news/2019/...  ...  https://www.theguardian.com/us-news/2019/jun/2...\n",
              "4  https://content.guardianapis.com/us-news/2019/...  ...  https://www.theguardian.com/us-news/2019/sep/1...\n",
              "\n",
              "[5 rows x 11 columns]"
            ]
          },
          "metadata": {
            "tags": []
          },
          "execution_count": 30
        }
      ]
    },
    {
      "cell_type": "code",
      "metadata": {
        "id": "5xoWy4XDVVX0",
        "colab_type": "code",
        "colab": {}
      },
      "source": [
        "import sqlite3\n",
        "sqldata=sqlite3.connect('PoliticalArticlesData.DB')"
      ],
      "execution_count": 0,
      "outputs": []
    },
    {
      "cell_type": "code",
      "metadata": {
        "id": "Y9prhpjTT2tn",
        "colab_type": "code",
        "colab": {}
      },
      "source": [
        "sql = \"CREATE TABLE IF NOT EXISTS PoliticalArticlesData (articleURL varchar(250),webPublicationDate date,articleTitle varchar(250),sectionID varchar(250),sectionName varchar(250), articletype varchar(250));\"\n",
        "sqldata.execute(sql)\n",
        "sqldata.commit()"
      ],
      "execution_count": 0,
      "outputs": []
    },
    {
      "cell_type": "code",
      "metadata": {
        "id": "0aPh2FxpV89c",
        "colab_type": "code",
        "colab": {
          "base_uri": "https://localhost:8080/",
          "height": 207
        },
        "outputId": "387a0f0d-00ac-48b6-8db6-eec2acce8782"
      },
      "source": [
        "query_template = \"\"\"INSERT OR IGNORE INTO PoliticalArticlesData(articleURL, webPublicationDate, articleTitle, sectionID,sectionName,articletype) VALUES (?, ?, ?, ?, ?, ?);\"\"\"\n",
        "\n",
        "\n",
        "\n",
        "for entry in articles:\n",
        "  articleURL=str(entry['webUrl'])\n",
        "  webPublicationDate=entry['webPublicationDate']\n",
        "  articleTitle=str(entry['webUrl'])\n",
        "  sectionID=str(entry['sectionId'])\n",
        "  sectionName=str(entry['sectionName'])\n",
        "  articletype=str(entry['type'])\n",
        "  \n",
        "  print(\"Inserting Article: \",articleURL, webPublicationDate, articleTitle, sectionID,sectionName,articletype)\n",
        "  query_parameters=(articleURL, webPublicationDate, articleTitle, sectionID,sectionName,articletype)\n",
        "  sqldata.execute(query_template,query_parameters)\n",
        "  \n",
        "sqldata.commit()\n",
        "  "
      ],
      "execution_count": 33,
      "outputs": [
        {
          "output_type": "stream",
          "text": [
            "Inserting Article:  https://www.theguardian.com/us-news/2019/jun/26/democratic-debate-2019-watch-2020-election-when-where-who 2019-06-27T20:23:02Z https://www.theguardian.com/us-news/2019/jun/26/democratic-debate-2019-watch-2020-election-when-where-who us-news US news article\n",
            "Inserting Article:  https://www.theguardian.com/us-news/2019/jul/31/healthcare-democrats-2020-debates-detroit 2019-07-31T19:39:21Z https://www.theguardian.com/us-news/2019/jul/31/healthcare-democrats-2020-debates-detroit us-news US news article\n",
            "Inserting Article:  https://www.theguardian.com/commentisfree/2019/may/11/missing-ingredient-debates-generosity-labour-antisemitism 2019-05-11T05:00:12Z https://www.theguardian.com/commentisfree/2019/may/11/missing-ingredient-debates-generosity-labour-antisemitism commentisfree Opinion article\n",
            "Inserting Article:  https://www.theguardian.com/us-news/2019/jun/26/us-briefing-border-patrol-chief-quits-democrat-debates-and-mueller 2019-06-26T10:27:06Z https://www.theguardian.com/us-news/2019/jun/26/us-briefing-border-patrol-chief-quits-democrat-debates-and-mueller us-news US news article\n",
            "Inserting Article:  https://www.theguardian.com/us-news/2019/sep/10/presidential-debates-2020-houston-gun-control 2019-09-10T06:00:42Z https://www.theguardian.com/us-news/2019/sep/10/presidential-debates-2020-houston-gun-control us-news US news article\n",
            "Inserting Article:  https://www.theguardian.com/us-news/2019/jul/18/democratic-debates-biden-harris-bernie-warren-2020 2019-07-19T01:45:58Z https://www.theguardian.com/us-news/2019/jul/18/democratic-debates-biden-harris-bernie-warren-2020 us-news US news article\n",
            "Inserting Article:  https://www.theguardian.com/commentisfree/2019/jun/29/democratic-debate-kamala-harris-elizabeth-warren-trump 2019-06-29T10:00:46Z https://www.theguardian.com/commentisfree/2019/jun/29/democratic-debate-kamala-harris-elizabeth-warren-trump commentisfree Opinion article\n",
            "Inserting Article:  https://www.theguardian.com/us-news/live/2019/jul/30/democratic-debates-2019-live-news-tonight-bernie-sanders-elizabeth-warren-buttigieg-o-rourke-latest 2019-07-31T04:40:19Z https://www.theguardian.com/us-news/live/2019/jul/30/democratic-debates-2019-live-news-tonight-bernie-sanders-elizabeth-warren-buttigieg-o-rourke-latest us-news US news liveblog\n",
            "Inserting Article:  https://www.theguardian.com/politics/2019/jun/21/jeremy-hunt-calls-for-live-tv-debates-before-tory-voting-begins 2019-06-21T21:30:54Z https://www.theguardian.com/politics/2019/jun/21/jeremy-hunt-calls-for-live-tv-debates-before-tory-voting-begins politics Politics article\n",
            "Inserting Article:  https://www.theguardian.com/commentisfree/2019/aug/03/democratic-debates-control-trump-campaign 2019-08-03T10:00:46Z https://www.theguardian.com/commentisfree/2019/aug/03/democratic-debates-control-trump-campaign commentisfree Opinion article\n"
          ],
          "name": "stdout"
        }
      ]
    },
    {
      "cell_type": "code",
      "metadata": {
        "id": "tfy28Es8apAL",
        "colab_type": "code",
        "colab": {
          "base_uri": "https://localhost:8080/",
          "height": 575
        },
        "outputId": "5911d3f6-3f36-4397-d4ee-25a96dc430f1"
      },
      "source": [
        "#I want to find artcile data on Political Debates from the Guardian's Public Web API [FINAL Script]\n",
        "import json\n",
        "import urllib.request\n",
        "import pandas as pd\n",
        "import sqlite3\n",
        "import time\n",
        "\n",
        "#I first created the sql database that i want to populate with the article information\n",
        "sqldata=sqlite3.connect('PoliticalArticlesData.DB')\n",
        "sql = \"CREATE TABLE IF NOT EXISTS PoliticalArticlesData (articleURL varchar(250),webPublicationDate date,articleTitle varchar(250),sectionID varchar(250),sectionName varchar(250), articletype varchar(250));\"\n",
        "sqldata.execute(sql)\n",
        "sqldata.commit()\n",
        "\n",
        "while True:\n",
        "  \n",
        "  with urllib.request.urlopen(\"https://content.guardianapis.com/search?q=debates&api-key=9a9a3793-fc26-4820-9056-0af70dd409b4\") as url:\n",
        "      data = json.loads(url.read().decode())\n",
        "  response=data['response']\n",
        "  articles=response['results'] #to extract the articles from the jsonfile, I had to first extract the inner jason file from the content endpoint in the guardian API\n",
        "  query_template = \"\"\"INSERT OR IGNORE INTO PoliticalArticlesData(articleURL, webPublicationDate, articleTitle, sectionID,sectionName,articletype) VALUES (?, ?, ?, ?, ?, ?);\"\"\"\n",
        " #I chose the parameters provided by the API that I deemed relevant enough to include in the database\n",
        "  for entry in articles:\n",
        "    articleURL=str(entry['webUrl'])\n",
        "    webPublicationDate=entry['webPublicationDate']\n",
        "    articleTitle=str(entry['webUrl'])\n",
        "    sectionID=str(entry['sectionId'])\n",
        "    sectionName=str(entry['sectionName'])\n",
        "    articletype=str(entry['type'])\n",
        "\n",
        "    print(\"Inserting Article: \",articleURL, webPublicationDate, articleTitle, sectionID,sectionName,articletype)\n",
        "    query_parameters=(articleURL, webPublicationDate, articleTitle, sectionID,sectionName,articletype)\n",
        "    sqldata.execute(query_template,query_parameters)\n",
        "\n",
        "  sqldata.commit()\n",
        "  \n",
        "  \n",
        "  time.sleep(15)\n",
        "  \n"
      ],
      "execution_count": 34,
      "outputs": [
        {
          "output_type": "stream",
          "text": [
            "Inserting Article:  https://www.theguardian.com/us-news/2019/jun/26/democratic-debate-2019-watch-2020-election-when-where-who 2019-06-27T20:23:02Z https://www.theguardian.com/us-news/2019/jun/26/democratic-debate-2019-watch-2020-election-when-where-who us-news US news article\n",
            "Inserting Article:  https://www.theguardian.com/us-news/2019/jul/31/healthcare-democrats-2020-debates-detroit 2019-07-31T19:39:21Z https://www.theguardian.com/us-news/2019/jul/31/healthcare-democrats-2020-debates-detroit us-news US news article\n",
            "Inserting Article:  https://www.theguardian.com/commentisfree/2019/may/11/missing-ingredient-debates-generosity-labour-antisemitism 2019-05-11T05:00:12Z https://www.theguardian.com/commentisfree/2019/may/11/missing-ingredient-debates-generosity-labour-antisemitism commentisfree Opinion article\n",
            "Inserting Article:  https://www.theguardian.com/us-news/2019/jun/26/us-briefing-border-patrol-chief-quits-democrat-debates-and-mueller 2019-06-26T10:27:06Z https://www.theguardian.com/us-news/2019/jun/26/us-briefing-border-patrol-chief-quits-democrat-debates-and-mueller us-news US news article\n",
            "Inserting Article:  https://www.theguardian.com/us-news/2019/sep/10/presidential-debates-2020-houston-gun-control 2019-09-10T06:00:42Z https://www.theguardian.com/us-news/2019/sep/10/presidential-debates-2020-houston-gun-control us-news US news article\n",
            "Inserting Article:  https://www.theguardian.com/commentisfree/2019/jun/29/democratic-debate-kamala-harris-elizabeth-warren-trump 2019-06-29T10:00:46Z https://www.theguardian.com/commentisfree/2019/jun/29/democratic-debate-kamala-harris-elizabeth-warren-trump commentisfree Opinion article\n",
            "Inserting Article:  https://www.theguardian.com/us-news/2019/jul/18/democratic-debates-biden-harris-bernie-warren-2020 2019-07-19T01:45:58Z https://www.theguardian.com/us-news/2019/jul/18/democratic-debates-biden-harris-bernie-warren-2020 us-news US news article\n",
            "Inserting Article:  https://www.theguardian.com/us-news/live/2019/jul/30/democratic-debates-2019-live-news-tonight-bernie-sanders-elizabeth-warren-buttigieg-o-rourke-latest 2019-07-31T04:40:19Z https://www.theguardian.com/us-news/live/2019/jul/30/democratic-debates-2019-live-news-tonight-bernie-sanders-elizabeth-warren-buttigieg-o-rourke-latest us-news US news liveblog\n",
            "Inserting Article:  https://www.theguardian.com/politics/2019/jun/21/jeremy-hunt-calls-for-live-tv-debates-before-tory-voting-begins 2019-06-21T21:30:54Z https://www.theguardian.com/politics/2019/jun/21/jeremy-hunt-calls-for-live-tv-debates-before-tory-voting-begins politics Politics article\n",
            "Inserting Article:  https://www.theguardian.com/commentisfree/2019/aug/03/democratic-debates-control-trump-campaign 2019-08-03T10:00:46Z https://www.theguardian.com/commentisfree/2019/aug/03/democratic-debates-control-trump-campaign commentisfree Opinion article\n",
            "Inserting Article:  https://www.theguardian.com/us-news/2019/jun/26/democratic-debate-2019-watch-2020-election-when-where-who 2019-06-27T20:23:02Z https://www.theguardian.com/us-news/2019/jun/26/democratic-debate-2019-watch-2020-election-when-where-who us-news US news article\n",
            "Inserting Article:  https://www.theguardian.com/us-news/2019/jul/31/healthcare-democrats-2020-debates-detroit 2019-07-31T19:39:21Z https://www.theguardian.com/us-news/2019/jul/31/healthcare-democrats-2020-debates-detroit us-news US news article\n",
            "Inserting Article:  https://www.theguardian.com/commentisfree/2019/may/11/missing-ingredient-debates-generosity-labour-antisemitism 2019-05-11T05:00:12Z https://www.theguardian.com/commentisfree/2019/may/11/missing-ingredient-debates-generosity-labour-antisemitism commentisfree Opinion article\n",
            "Inserting Article:  https://www.theguardian.com/us-news/2019/jun/26/us-briefing-border-patrol-chief-quits-democrat-debates-and-mueller 2019-06-26T10:27:06Z https://www.theguardian.com/us-news/2019/jun/26/us-briefing-border-patrol-chief-quits-democrat-debates-and-mueller us-news US news article\n",
            "Inserting Article:  https://www.theguardian.com/us-news/2019/sep/10/presidential-debates-2020-houston-gun-control 2019-09-10T06:00:42Z https://www.theguardian.com/us-news/2019/sep/10/presidential-debates-2020-houston-gun-control us-news US news article\n",
            "Inserting Article:  https://www.theguardian.com/commentisfree/2019/jun/29/democratic-debate-kamala-harris-elizabeth-warren-trump 2019-06-29T10:00:46Z https://www.theguardian.com/commentisfree/2019/jun/29/democratic-debate-kamala-harris-elizabeth-warren-trump commentisfree Opinion article\n",
            "Inserting Article:  https://www.theguardian.com/us-news/2019/jul/18/democratic-debates-biden-harris-bernie-warren-2020 2019-07-19T01:45:58Z https://www.theguardian.com/us-news/2019/jul/18/democratic-debates-biden-harris-bernie-warren-2020 us-news US news article\n",
            "Inserting Article:  https://www.theguardian.com/us-news/live/2019/jul/30/democratic-debates-2019-live-news-tonight-bernie-sanders-elizabeth-warren-buttigieg-o-rourke-latest 2019-07-31T04:40:19Z https://www.theguardian.com/us-news/live/2019/jul/30/democratic-debates-2019-live-news-tonight-bernie-sanders-elizabeth-warren-buttigieg-o-rourke-latest us-news US news liveblog\n",
            "Inserting Article:  https://www.theguardian.com/politics/2019/jun/21/jeremy-hunt-calls-for-live-tv-debates-before-tory-voting-begins 2019-06-21T21:30:54Z https://www.theguardian.com/politics/2019/jun/21/jeremy-hunt-calls-for-live-tv-debates-before-tory-voting-begins politics Politics article\n",
            "Inserting Article:  https://www.theguardian.com/commentisfree/2019/aug/03/democratic-debates-control-trump-campaign 2019-08-03T10:00:46Z https://www.theguardian.com/commentisfree/2019/aug/03/democratic-debates-control-trump-campaign commentisfree Opinion article\n"
          ],
          "name": "stdout"
        },
        {
          "output_type": "error",
          "ename": "KeyboardInterrupt",
          "evalue": "ignored",
          "traceback": [
            "\u001b[0;31m---------------------------------------------------------------------------\u001b[0m",
            "\u001b[0;31mKeyboardInterrupt\u001b[0m                         Traceback (most recent call last)",
            "\u001b[0;32m<ipython-input-34-456e790eed2e>\u001b[0m in \u001b[0;36m<module>\u001b[0;34m()\u001b[0m\n\u001b[1;32m     33\u001b[0m \u001b[0;34m\u001b[0m\u001b[0m\n\u001b[1;32m     34\u001b[0m \u001b[0;34m\u001b[0m\u001b[0m\n\u001b[0;32m---> 35\u001b[0;31m   \u001b[0mtime\u001b[0m\u001b[0;34m.\u001b[0m\u001b[0msleep\u001b[0m\u001b[0;34m(\u001b[0m\u001b[0;36m15\u001b[0m\u001b[0;34m)\u001b[0m\u001b[0;34m\u001b[0m\u001b[0;34m\u001b[0m\u001b[0m\n\u001b[0m\u001b[1;32m     36\u001b[0m \u001b[0;34m\u001b[0m\u001b[0m\n",
            "\u001b[0;31mKeyboardInterrupt\u001b[0m: "
          ]
        }
      ]
    }
  ]
}